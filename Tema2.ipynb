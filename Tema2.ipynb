{
  "nbformat": 4,
  "nbformat_minor": 0,
  "metadata": {
    "colab": {
      "name": "Tema2",
      "provenance": [],
      "collapsed_sections": [],
      "include_colab_link": true
    },
    "kernelspec": {
      "display_name": "Python 3",
      "name": "python3"
    }
  },
  "cells": [
    {
      "cell_type": "markdown",
      "metadata": {
        "id": "view-in-github",
        "colab_type": "text"
      },
      "source": [
        "<a href=\"https://colab.research.google.com/github/MihailSandulescu/TehniciSimulare/blob/master/Tema2.ipynb\" target=\"_parent\"><img src=\"https://colab.research.google.com/assets/colab-badge.svg\" alt=\"Open In Colab\"/></a>"
      ]
    },
    {
      "cell_type": "markdown",
      "metadata": {
        "id": "v1-R1uDn6Yup"
      },
      "source": [
        "TEMA 2 (problema 11)\n"
      ]
    },
    {
      "cell_type": "markdown",
      "metadata": {
        "id": "ety3lm5U6eoZ"
      },
      "source": [
        "Să se genereze prin două metode variabila Beta(0.75,4) (curs6). Să se genereze variabila hipergeometrică cu parametrii citiți de la tastatură (curs 7)."
      ]
    },
    {
      "cell_type": "code",
      "metadata": {
        "colab": {
          "base_uri": "https://localhost:8080/"
        },
        "id": "f7ow2fRC7RAx",
        "outputId": "abda0167-1f59-4264-c2d5-e2bd48c32943"
      },
      "source": [
        "import numpy as np\n",
        "import random\n",
        "\n",
        "def generare_beta(a, b, metoda):\n",
        "    if metoda == \"distributie_gamma\":\n",
        "      x1 = random.gammavariate(a, 1)\n",
        "      x2 = random.gammavariate(b, 1)\n",
        "      return x1 / (x1 + x2)\n",
        "    elif metoda == \"distributii_uniforme\":\n",
        "        for ndx in range (1, 1000000000):\n",
        "          v = pow(random.uniform(0, 1), (1 / a))\n",
        "          t = pow(random.uniform(0, 1), (1 / (b - 1)))\n",
        "          if v + t < 1:\n",
        "            return v\n",
        "    else:\n",
        "      return np.random.beta(a, b, 1);\n",
        "\n",
        "a = 0.75\n",
        "b = 4\n",
        "sample_gamma = [generare_beta(a, b, \"distributie_gamma\") for _ in range(1000000)]\n",
        "sample_uniform = [generare_beta(a, b, \"distributii_uniforme\") for _ in range(1000000)]\n",
        "sample_default = [generare_beta(a, b, \"default\") for _ in range(1000000)]\\\n",
        "\n",
        "media = a/(a+b)\n",
        "deviatia_standard=np.sqrt((a*b)/((pow((a+b), 2))*(a+b+1)))\n",
        "\n",
        "print(media,\";\", deviatia_standard, \"\\n\")\n",
        "print(np.mean(sample_gamma),\";\", np.std(sample_gamma),\"\\n\")\n",
        "print(np.mean(sample_uniform),\";\", np.std(sample_uniform),\"\\n\")\n",
        "print(np.mean(sample_default),\";\", np.std(sample_default),\"\\n\")"
      ],
      "execution_count": null,
      "outputs": [
        {
          "output_type": "stream",
          "text": [
            "0.15789473684210525 ; 0.15206634073991898 \n",
            "\n",
            "0.15770327411489377 ; 0.151923504010263 \n",
            "\n",
            "0.15766689179641719 ; 0.1519755101692517 \n",
            "\n",
            "0.15806542803465895 ; 0.1521429077274942 \n",
            "\n"
          ],
          "name": "stdout"
        }
      ]
    },
    {
      "cell_type": "code",
      "metadata": {
        "colab": {
          "base_uri": "https://localhost:8080/",
          "height": 421
        },
        "id": "bdeSaZnUAucJ",
        "outputId": "9060b2d4-5ade-413f-89b1-cc97424ef656"
      },
      "source": [
        "from scipy.stats import hypergeom\n",
        "\n",
        "A = int(input(\"A:\"))\n",
        "B = int(input(\"B:\"))\n",
        "n = int(input(\"n:\"))\n",
        "N = int(A+B)\n",
        "\n",
        "variabila_aleatoare = hypergeom.rvs(A,n,N);\n",
        "\n",
        "print(variabila_aleatoare)\n"
      ],
      "execution_count": null,
      "outputs": [
        {
          "output_type": "stream",
          "text": [
            "A:20\n",
            "B:7\n",
            "n:12\n"
          ],
          "name": "stdout"
        },
        {
          "output_type": "error",
          "ename": "ValueError",
          "evalue": "ignored",
          "traceback": [
            "\u001b[0;31m---------------------------------------------------------------------------\u001b[0m",
            "\u001b[0;31mValueError\u001b[0m                                Traceback (most recent call last)",
            "\u001b[0;32m<ipython-input-16-25b5518f9f4d>\u001b[0m in \u001b[0;36m<module>\u001b[0;34m()\u001b[0m\n\u001b[1;32m      6\u001b[0m \u001b[0mN\u001b[0m \u001b[0;34m=\u001b[0m \u001b[0mint\u001b[0m\u001b[0;34m(\u001b[0m\u001b[0mA\u001b[0m\u001b[0;34m+\u001b[0m\u001b[0mB\u001b[0m\u001b[0;34m)\u001b[0m\u001b[0;34m\u001b[0m\u001b[0;34m\u001b[0m\u001b[0m\n\u001b[1;32m      7\u001b[0m \u001b[0;34m\u001b[0m\u001b[0m\n\u001b[0;32m----> 8\u001b[0;31m \u001b[0mvariabila_aleatoare\u001b[0m \u001b[0;34m=\u001b[0m \u001b[0mhypergeom\u001b[0m\u001b[0;34m.\u001b[0m\u001b[0mrvs\u001b[0m\u001b[0;34m(\u001b[0m\u001b[0mA\u001b[0m\u001b[0;34m,\u001b[0m\u001b[0mn\u001b[0m\u001b[0;34m,\u001b[0m\u001b[0mN\u001b[0m\u001b[0;34m)\u001b[0m\u001b[0;34m;\u001b[0m\u001b[0;34m\u001b[0m\u001b[0;34m\u001b[0m\u001b[0m\n\u001b[0m\u001b[1;32m      9\u001b[0m \u001b[0;34m\u001b[0m\u001b[0m\n\u001b[1;32m     10\u001b[0m \u001b[0mprint\u001b[0m\u001b[0;34m(\u001b[0m\u001b[0mvariabila_aleatoare\u001b[0m\u001b[0;34m)\u001b[0m\u001b[0;34m\u001b[0m\u001b[0;34m\u001b[0m\u001b[0m\n",
            "\u001b[0;32m/usr/local/lib/python3.7/dist-packages/scipy/stats/_distn_infrastructure.py\u001b[0m in \u001b[0;36mrvs\u001b[0;34m(self, *args, **kwargs)\u001b[0m\n\u001b[1;32m   2967\u001b[0m         \"\"\"\n\u001b[1;32m   2968\u001b[0m         \u001b[0mkwargs\u001b[0m\u001b[0;34m[\u001b[0m\u001b[0;34m'discrete'\u001b[0m\u001b[0;34m]\u001b[0m \u001b[0;34m=\u001b[0m \u001b[0;32mTrue\u001b[0m\u001b[0;34m\u001b[0m\u001b[0;34m\u001b[0m\u001b[0m\n\u001b[0;32m-> 2969\u001b[0;31m         \u001b[0;32mreturn\u001b[0m \u001b[0msuper\u001b[0m\u001b[0;34m(\u001b[0m\u001b[0mrv_discrete\u001b[0m\u001b[0;34m,\u001b[0m \u001b[0mself\u001b[0m\u001b[0;34m)\u001b[0m\u001b[0;34m.\u001b[0m\u001b[0mrvs\u001b[0m\u001b[0;34m(\u001b[0m\u001b[0;34m*\u001b[0m\u001b[0margs\u001b[0m\u001b[0;34m,\u001b[0m \u001b[0;34m**\u001b[0m\u001b[0mkwargs\u001b[0m\u001b[0;34m)\u001b[0m\u001b[0;34m\u001b[0m\u001b[0;34m\u001b[0m\u001b[0m\n\u001b[0m\u001b[1;32m   2970\u001b[0m \u001b[0;34m\u001b[0m\u001b[0m\n\u001b[1;32m   2971\u001b[0m     \u001b[0;32mdef\u001b[0m \u001b[0mpmf\u001b[0m\u001b[0;34m(\u001b[0m\u001b[0mself\u001b[0m\u001b[0;34m,\u001b[0m \u001b[0mk\u001b[0m\u001b[0;34m,\u001b[0m \u001b[0;34m*\u001b[0m\u001b[0margs\u001b[0m\u001b[0;34m,\u001b[0m \u001b[0;34m**\u001b[0m\u001b[0mkwds\u001b[0m\u001b[0;34m)\u001b[0m\u001b[0;34m:\u001b[0m\u001b[0;34m\u001b[0m\u001b[0;34m\u001b[0m\u001b[0m\n",
            "\u001b[0;32m/usr/local/lib/python3.7/dist-packages/scipy/stats/_distn_infrastructure.py\u001b[0m in \u001b[0;36mrvs\u001b[0;34m(self, *args, **kwds)\u001b[0m\n\u001b[1;32m    964\u001b[0m         \u001b[0mcond\u001b[0m \u001b[0;34m=\u001b[0m \u001b[0mlogical_and\u001b[0m\u001b[0;34m(\u001b[0m\u001b[0mself\u001b[0m\u001b[0;34m.\u001b[0m\u001b[0m_argcheck\u001b[0m\u001b[0;34m(\u001b[0m\u001b[0;34m*\u001b[0m\u001b[0margs\u001b[0m\u001b[0;34m)\u001b[0m\u001b[0;34m,\u001b[0m \u001b[0;34m(\u001b[0m\u001b[0mscale\u001b[0m \u001b[0;34m>=\u001b[0m \u001b[0;36m0\u001b[0m\u001b[0;34m)\u001b[0m\u001b[0;34m)\u001b[0m\u001b[0;34m\u001b[0m\u001b[0;34m\u001b[0m\u001b[0m\n\u001b[1;32m    965\u001b[0m         \u001b[0;32mif\u001b[0m \u001b[0;32mnot\u001b[0m \u001b[0mnp\u001b[0m\u001b[0;34m.\u001b[0m\u001b[0mall\u001b[0m\u001b[0;34m(\u001b[0m\u001b[0mcond\u001b[0m\u001b[0;34m)\u001b[0m\u001b[0;34m:\u001b[0m\u001b[0;34m\u001b[0m\u001b[0;34m\u001b[0m\u001b[0m\n\u001b[0;32m--> 966\u001b[0;31m             \u001b[0;32mraise\u001b[0m \u001b[0mValueError\u001b[0m\u001b[0;34m(\u001b[0m\u001b[0;34m\"Domain error in arguments.\"\u001b[0m\u001b[0;34m)\u001b[0m\u001b[0;34m\u001b[0m\u001b[0;34m\u001b[0m\u001b[0m\n\u001b[0m\u001b[1;32m    967\u001b[0m \u001b[0;34m\u001b[0m\u001b[0m\n\u001b[1;32m    968\u001b[0m         \u001b[0;32mif\u001b[0m \u001b[0mnp\u001b[0m\u001b[0;34m.\u001b[0m\u001b[0mall\u001b[0m\u001b[0;34m(\u001b[0m\u001b[0mscale\u001b[0m \u001b[0;34m==\u001b[0m \u001b[0;36m0\u001b[0m\u001b[0;34m)\u001b[0m\u001b[0;34m:\u001b[0m\u001b[0;34m\u001b[0m\u001b[0;34m\u001b[0m\u001b[0m\n",
            "\u001b[0;31mValueError\u001b[0m: Domain error in arguments."
          ]
        }
      ]
    },
    {
      "cell_type": "markdown",
      "metadata": {
        "id": "NUPHG5s2HVai"
      },
      "source": [
        "Rezolvare tds:\n",
        "https://towardsdatascience.com/hypergeometric-distribution-explained-with-python-2c80bc613bf4"
      ]
    },
    {
      "cell_type": "code",
      "metadata": {
        "colab": {
          "base_uri": "https://localhost:8080/",
          "height": 346
        },
        "id": "Ka_mJNc4HbHJ",
        "outputId": "b2ae0b67-a083-466d-cd7a-2ca74e4d351b"
      },
      "source": [
        "import matplotlib.pyplot as plt\n",
        "from scipy.special import comb\n",
        "\n",
        "def hypergeom_pmf(N, A, n, x):\n",
        "    \n",
        "    '''\n",
        "    Probability Mass Function for Hypergeometric Distribution\n",
        "    :param N: population size\n",
        "    :param A: total number of desired items in N\n",
        "    :param n: number of draws made from N\n",
        "    :param x: number of desired items in our draw of n items\n",
        "    :returns: PMF computed at x\n",
        "    '''\n",
        "    Achoosex = comb(A,x)\n",
        "    NAchoosenx = comb(N-A, n-x)\n",
        "    Nchoosen = comb(N,n)\n",
        "    \n",
        "    return (Achoosex)*NAchoosenx/Nchoosen\n",
        "\n",
        "def hypergeom_cdf(N, A, n, t, min_value=None):\n",
        "    \n",
        "    '''\n",
        "    Cumulative Density Funtion for Hypergeometric Distribution\n",
        "    :param N: population size\n",
        "    :param A: total number of desired items in N\n",
        "    :param n: number of draws made from N\n",
        "    :param t: number of desired items in our draw of n items up to t\n",
        "    :returns: CDF computed up to t\n",
        "    '''\n",
        "    if min_value:\n",
        "        return np.sum([hypergeom_pmf(N, A, n, x) for x in range(min_value, t+1)])\n",
        "    \n",
        "    return np.sum([hypergeom_pmf(N, A, n, x) for x in range(t+1)])\n",
        "    \n",
        "def hypergeom_plot(N, A, n):\n",
        "    \n",
        "    '''\n",
        "    Visualization of Hypergeometric Distribution for given parameters\n",
        "    :param N: population size\n",
        "    :param A: total number of desired items in N\n",
        "    :param n: number of draws made from N\n",
        "    :returns: Plot of Hypergeometric Distribution for given parameters\n",
        "    '''\n",
        "    \n",
        "    x = np.arange(0, n+1)\n",
        "    y = [hypergeom_pmf(N, A, n, x) for x in range(n+1)]\n",
        "    plt.plot(x, y, 'bo')\n",
        "    plt.vlines(x, 0, y, lw=2)\n",
        "    plt.xlabel('# of desired items in our draw')\n",
        "    plt.ylabel('Probablities')\n",
        "    plt.title('Hypergeometric Distribution Plot')\n",
        "    plt.show()\n",
        "\n",
        "\n",
        "A = int(input(\"A:\"))\n",
        "B = int(input(\"B:\"))\n",
        "n = int(input(\"n:\"))\n",
        "N = int(A+B)\n",
        "\n",
        "hypergeom_plot(N, A, n)"
      ],
      "execution_count": null,
      "outputs": [
        {
          "output_type": "stream",
          "text": [
            "A:20\n",
            "B:12\n",
            "n:7\n"
          ],
          "name": "stdout"
        },
        {
          "output_type": "display_data",
          "data": {
            "image/png": "[encoded data removed]",
            "text/plain": [
              "<Figure size 432x288 with 1 Axes>"
            ]
          },
          "metadata": {
            "tags": [],
            "needs_background": "light"
          }
        }
      ]
    }
  ]
}