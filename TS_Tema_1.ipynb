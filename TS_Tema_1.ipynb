{
  "nbformat": 4,
  "nbformat_minor": 0,
  "metadata": {
    "colab": {
      "name": "TS Tema 1",
      "provenance": [],
      "collapsed_sections": [],
      "include_colab_link": true
    },
    "kernelspec": {
      "display_name": "Python 3",
      "name": "python3"
    }
  },
  "cells": [
    {
      "cell_type": "markdown",
      "metadata": {
        "id": "view-in-github",
        "colab_type": "text"
      },
      "source": [
        "<a href=\"https://colab.research.google.com/github/MihailSandulescu/TehniciSimulare/blob/master/TS_Tema_1.ipynb\" target=\"_parent\"><img src=\"https://colab.research.google.com/assets/colab-badge.svg\" alt=\"Open In Colab\"/></a>"
      ]
    },
    {
      "cell_type": "code",
      "metadata": {
        "id": "ppx-BKX8EtIy"
      },
      "source": [
        "import itertools, random\r\n",
        "from scipy.stats import hypergeom"
      ],
      "execution_count": null,
      "outputs": []
    },
    {
      "cell_type": "markdown",
      "metadata": {
        "id": "3egaMyihO_PJ"
      },
      "source": [
        "OBS! Toate calculele se aplica pentru variatia de poker Texas hold'em, unde jucatorii primesc 2 carti si formeaza seturi cu cele 5 carti jucate apoi de dealer."
      ]
    },
    {
      "cell_type": "code",
      "metadata": {
        "id": "kro39JcKEvyH",
        "colab": {
          "base_uri": "https://localhost:8080/"
        },
        "outputId": "7e3faf05-987c-4884-9c73-f41d9bfb6ce5"
      },
      "source": [
        "# generam un pachet de carti\r\n",
        "deck = list(itertools.product(['A', '2', '3', '4', '5', '6', '7', '8', '9', '10', 'J', 'Q', 'K'],['Inima','Caro','Trefla','Pica']))\r\n",
        "deck"
      ],
      "execution_count": null,
      "outputs": [
        {
          "output_type": "execute_result",
          "data": {
            "text/plain": [
              "[('A', 'Inima'),\n",
              " ('A', 'Caro'),\n",
              " ('A', 'Trefla'),\n",
              " ('A', 'Pica'),\n",
              " ('2', 'Inima'),\n",
              " ('2', 'Caro'),\n",
              " ('2', 'Trefla'),\n",
              " ('2', 'Pica'),\n",
              " ('3', 'Inima'),\n",
              " ('3', 'Caro'),\n",
              " ('3', 'Trefla'),\n",
              " ('3', 'Pica'),\n",
              " ('4', 'Inima'),\n",
              " ('4', 'Caro'),\n",
              " ('4', 'Trefla'),\n",
              " ('4', 'Pica'),\n",
              " ('5', 'Inima'),\n",
              " ('5', 'Caro'),\n",
              " ('5', 'Trefla'),\n",
              " ('5', 'Pica'),\n",
              " ('6', 'Inima'),\n",
              " ('6', 'Caro'),\n",
              " ('6', 'Trefla'),\n",
              " ('6', 'Pica'),\n",
              " ('7', 'Inima'),\n",
              " ('7', 'Caro'),\n",
              " ('7', 'Trefla'),\n",
              " ('7', 'Pica'),\n",
              " ('8', 'Inima'),\n",
              " ('8', 'Caro'),\n",
              " ('8', 'Trefla'),\n",
              " ('8', 'Pica'),\n",
              " ('9', 'Inima'),\n",
              " ('9', 'Caro'),\n",
              " ('9', 'Trefla'),\n",
              " ('9', 'Pica'),\n",
              " ('10', 'Inima'),\n",
              " ('10', 'Caro'),\n",
              " ('10', 'Trefla'),\n",
              " ('10', 'Pica'),\n",
              " ('J', 'Inima'),\n",
              " ('J', 'Caro'),\n",
              " ('J', 'Trefla'),\n",
              " ('J', 'Pica'),\n",
              " ('Q', 'Inima'),\n",
              " ('Q', 'Caro'),\n",
              " ('Q', 'Trefla'),\n",
              " ('Q', 'Pica'),\n",
              " ('K', 'Inima'),\n",
              " ('K', 'Caro'),\n",
              " ('K', 'Trefla'),\n",
              " ('K', 'Pica')]"
            ]
          },
          "metadata": {
            "tags": []
          },
          "execution_count": 2
        }
      ]
    },
    {
      "cell_type": "markdown",
      "metadata": {
        "id": "UebTgGujF3vY"
      },
      "source": [
        "Probabilitatea de a extrage 2 ași din pachet calculată prin simulare Monte Carlo:"
      ]
    },
    {
      "cell_type": "code",
      "metadata": {
        "id": "EJaGtcZEF7rY",
        "colab": {
          "base_uri": "https://localhost:8080/"
        },
        "outputId": "90c58093-990c-4b41-b8e5-8392d5ccad85"
      },
      "source": [
        "# numaram de cate ori primele 2 carti sunt as din N variante generate\r\n",
        "N = 1000000\r\n",
        "double_aces = 0\r\n",
        "for hands in range(N):\r\n",
        "    # amestecam pachetul\r\n",
        "    random.shuffle(deck)\r\n",
        "    aces = [d[0] for d in deck[0:2]].count('A')\r\n",
        "    if aces == 2:\r\n",
        "        double_aces+=1\r\n",
        "prob = double_aces/N\r\n",
        "prob"
      ],
      "execution_count": null,
      "outputs": [
        {
          "output_type": "execute_result",
          "data": {
            "text/plain": [
              "0.004463"
            ]
          },
          "metadata": {
            "tags": []
          },
          "execution_count": 3
        }
      ]
    },
    {
      "cell_type": "markdown",
      "metadata": {
        "id": "HLszIgXVF9oY"
      },
      "source": [
        "Probabilitatea de a extrage 4 ași în cele 7 cărți:"
      ]
    },
    {
      "cell_type": "code",
      "metadata": {
        "id": "rInfXcxNGEXf",
        "colab": {
          "base_uri": "https://localhost:8080/"
        },
        "outputId": "7f760c66-8df6-4f76-8772-fedea5ef54ae"
      },
      "source": [
        "# Via formula matematica pentru rezultat exact:\r\n",
        "\r\n",
        "hypergeom.pmf(cati_asi_vrem=4,cate_carti_sunt_in_pachet=52, cati_asi_sunt_in_pachet=4, cate_carti_extragem=7)"
      ],
      "execution_count": null,
      "outputs": [
        {
          "output_type": "execute_result",
          "data": {
            "text/plain": [
              "0.039929818081078594"
            ]
          },
          "metadata": {
            "tags": []
          },
          "execution_count": 12
        }
      ]
    },
    {
      "cell_type": "code",
      "metadata": {
        "id": "xJLJuEx9GQjH"
      },
      "source": [
        "# Via metoda Monte Carlo:\r\n",
        "N = 1000000\r\n",
        "four_of_a_kind = 0\r\n",
        "for hands in range(N):\r\n",
        "    # amestecam cartile\r\n",
        "    random.shuffle(deck)\r\n",
        "    aces = [d[0] for d in deck[0:7]].count('A')\r\n",
        "    if aces == 4:\r\n",
        "        four_of_a_kind+=1\r\n",
        "prob = four_of_a_kind/N\r\n",
        "prob"
      ],
      "execution_count": null,
      "outputs": []
    },
    {
      "cell_type": "markdown",
      "metadata": {
        "id": "DGpryRYhGTl5"
      },
      "source": [
        "Probabilitatea de a extrage 5 carti de aceeasi culoare la flop:"
      ]
    },
    {
      "cell_type": "code",
      "metadata": {
        "id": "N3dJYzY8GUwK"
      },
      "source": [
        "N = 1000000\r\n",
        "flushes = 0\r\n",
        "for hands in range(N):\r\n",
        "    # amestecam cartile\r\n",
        "    random.shuffle(deck)\r\n",
        "    flush = [d[1] for d in deck[2:7]]\r\n",
        "    if len(set(flush))== 1:\r\n",
        "        flushes+=1\r\n",
        "prob = flushes/N\r\n",
        "prob"
      ],
      "execution_count": null,
      "outputs": []
    },
    {
      "cell_type": "markdown",
      "metadata": {
        "id": "fdZDTQjQGf-P"
      },
      "source": [
        "Probabilitatea de a extrage o chinta roiala la flop:"
      ]
    },
    {
      "cell_type": "code",
      "metadata": {
        "id": "mUx5c8qSGgnh"
      },
      "source": [
        "N = 1000000\r\n",
        "royal_flushes = 0\r\n",
        "for hands in range(N):\r\n",
        "    # amestecam cartile\r\n",
        "    random.shuffle(deck)\r\n",
        "    flush = [d[1] for d in deck[2:7]]\r\n",
        "    suit = [d[0] for d in deck[2:7]]\r\n",
        "    if len(set(flush))== 1 and sorted(['A','J', 'Q', 'K', '10'])==sorted(suit):\r\n",
        "      royal_flushes+=1\r\n",
        "prob = royal_flushes/N\r\n",
        "prob"
      ],
      "execution_count": null,
      "outputs": []
    },
    {
      "cell_type": "markdown",
      "metadata": {
        "id": "yXUewng0LrfS"
      },
      "source": [
        "Probabilitatea de a extrage chinta mica la flop:"
      ]
    },
    {
      "cell_type": "code",
      "metadata": {
        "id": "poNuzikkLwMD"
      },
      "source": [
        "N = 1000000\r\n",
        "chinta_mica = 0\r\n",
        "for hands in range(N):\r\n",
        "    # amestecam cartile\r\n",
        "    random.shuffle(deck)\r\n",
        "    suit = [d[0] for d in deck[2:7]]\r\n",
        "    if sorted(['A','2', '3', '4', '5'])==sorted(suit):\r\n",
        "      chinta_mica+=1\r\n",
        "prob = chinta_mica/N\r\n",
        "prob"
      ],
      "execution_count": null,
      "outputs": []
    },
    {
      "cell_type": "markdown",
      "metadata": {
        "id": "FkW8D5YLNWJh"
      },
      "source": [
        "Probabilitatea de a extrage 3 carti cu acelasi semn:"
      ]
    },
    {
      "cell_type": "code",
      "metadata": {
        "colab": {
          "base_uri": "https://localhost:8080/"
        },
        "id": "Wvl46vj5NafY",
        "outputId": "a3eb1097-6282-4a89-e1fe-b7ac66912b96"
      },
      "source": [
        "N = 1000000\r\n",
        "three_of_a_kind = 0\r\n",
        "for hands in range(N):\r\n",
        "    # amestecam cartile\r\n",
        "    random.shuffle(deck)\r\n",
        "    suit = [d[0] for d in deck[0:7]]\r\n",
        "    for card in suit:\r\n",
        "      if suit.count(card) == 3:\r\n",
        "        three_of_a_kind+=1\r\n",
        "prob = three_of_a_kind/N\r\n",
        "prob"
      ],
      "execution_count": null,
      "outputs": [
        {
          "output_type": "execute_result",
          "data": {
            "text/plain": [
              "0.227253"
            ]
          },
          "metadata": {
            "tags": []
          },
          "execution_count": 5
        }
      ]
    }
  ]
}