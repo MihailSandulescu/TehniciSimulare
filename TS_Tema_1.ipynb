{
  "nbformat": 4,
  "nbformat_minor": 0,
  "metadata": {
    "colab": {
      "name": "TS Tema 1",
      "provenance": [],
      "collapsed_sections": [],
      "include_colab_link": true
    },
    "kernelspec": {
      "display_name": "Python 3",
      "name": "python3"
    }
  },
  "cells": [
    {
      "cell_type": "markdown",
      "metadata": {
        "id": "view-in-github",
        "colab_type": "text"
      },
      "source": [
        "<a href=\"https://colab.research.google.com/github/MihailSandulescu/TehniciSimulare/blob/master/TS_Tema_1.ipynb\" target=\"_parent\"><img src=\"https://colab.research.google.com/assets/colab-badge.svg\" alt=\"Open In Colab\"/></a>"
      ]
    },
    {
      "cell_type": "code",
      "metadata": {
        "id": "ppx-BKX8EtIy"
      },
      "source": [
        "import itertools, random\r\n",
        "from scipy.stats import hypergeom"
      ],
      "execution_count": null,
      "outputs": []
    },
    {
      "cell_type": "code",
      "metadata": {
        "id": "kro39JcKEvyH"
      },
      "source": [
        "# generam un pachet de carti\r\n",
        "deck = list(itertools.product(['A', '2', '3', '4', '5', '6', '7', '8', '9', '10', 'J', 'Q', 'K'],['Inima','Caro','Trefla','Pica']))\r\n",
        "deck"
      ],
      "execution_count": null,
      "outputs": []
    },
    {
      "cell_type": "code",
      "metadata": {
        "id": "LNKs-t41FBHI"
      },
      "source": [
        "# amestecam pachetul\r\n",
        "random.shuffle(deck)\r\n",
        "deck[0:10]"
      ],
      "execution_count": null,
      "outputs": []
    },
    {
      "cell_type": "code",
      "metadata": {
        "id": "VwDoyZySFHng"
      },
      "source": [
        "#pentru a sorta pachetul:\r\n",
        "sorted(deck)\r\n",
        "# sortare in functie de numar\r\n",
        "sorted(deck, key = lambda x: x[0])\r\n",
        "# sortare in functie de simbol\r\n",
        "sorted(deck, key = lambda x: x[1])"
      ],
      "execution_count": null,
      "outputs": []
    },
    {
      "cell_type": "code",
      "metadata": {
        "id": "8fnm-BarFjn6"
      },
      "source": [
        "# pentru a elimina carti:\r\n",
        "# cartea are formatul ('J', 'Caro')\r\n",
        "deck.remove(card)\r\n",
        "# pop dupa indexul cartii\r\n",
        "deck.pop(0)\r\n",
        "# pop clasic\r\n",
        "deck.pop()"
      ],
      "execution_count": null,
      "outputs": []
    },
    {
      "cell_type": "markdown",
      "metadata": {
        "id": "UebTgGujF3vY"
      },
      "source": [
        "Probabilitatea de a extrage 2 ași din pachet calculată prin simulare Monte Carlo:"
      ]
    },
    {
      "cell_type": "code",
      "metadata": {
        "id": "EJaGtcZEF7rY"
      },
      "source": [
        "# numaram de cate ori primele 2 carti sunt as din N variante generate\r\n",
        "N = 10000000\r\n",
        "double_aces = 0\r\n",
        "for hands in range(N):\r\n",
        "    # amestecam pachetul\r\n",
        "    random.shuffle(deck)\r\n",
        "    aces = [d[0] for d in deck[0:2]].count('A')\r\n",
        "    if aces == 2:\r\n",
        "        double_aces+=1\r\n",
        "prob = double_aces/N\r\n",
        "prob"
      ],
      "execution_count": null,
      "outputs": []
    },
    {
      "cell_type": "markdown",
      "metadata": {
        "id": "HLszIgXVF9oY"
      },
      "source": [
        "Probabilitatea de a primi 2 ași într-o mână de 5 cărți:"
      ]
    },
    {
      "cell_type": "code",
      "metadata": {
        "id": "rInfXcxNGEXf",
        "colab": {
          "base_uri": "https://localhost:8080/"
        },
        "outputId": "7f760c66-8df6-4f76-8772-fedea5ef54ae"
      },
      "source": [
        "# Via formula matematica pentru rezultat exact:\r\n",
        "\r\n",
        "# k este numarul de asi dorit\r\n",
        "# M numarul de carti din pachet\r\n",
        "# n numarul de asi din pachet\r\n",
        "# N cati asi am primit la extragerea celor 5 carti\r\n",
        "hypergeom.pmf(k=2,M=52, n=4, N=5)"
      ],
      "execution_count": null,
      "outputs": [
        {
          "output_type": "execute_result",
          "data": {
            "text/plain": [
              "0.039929818081078594"
            ]
          },
          "metadata": {
            "tags": []
          },
          "execution_count": 12
        }
      ]
    },
    {
      "cell_type": "code",
      "metadata": {
        "id": "xJLJuEx9GQjH"
      },
      "source": [
        "# Via metoda Monte Carlo:\r\n",
        "N = 10000000\r\n",
        "double_aces = 0\r\n",
        "for hands in range(N):\r\n",
        "    # amestecam cartile\r\n",
        "    random.shuffle(deck)\r\n",
        "    aces = [d[0] for d in deck[0:5]].count('A')\r\n",
        "    if aces == 2:\r\n",
        "        double_aces+=1\r\n",
        "prob = double_aces/N\r\n",
        "prob"
      ],
      "execution_count": null,
      "outputs": []
    },
    {
      "cell_type": "markdown",
      "metadata": {
        "id": "DGpryRYhGTl5"
      },
      "source": [
        "Probabilitatea de a extrage 5 carti de aceeasi culoare:"
      ]
    },
    {
      "cell_type": "code",
      "metadata": {
        "id": "N3dJYzY8GUwK"
      },
      "source": [
        "N = 10000000\r\n",
        "flushes = 0\r\n",
        "for hands in range(N):\r\n",
        "    # amestecam cartile\r\n",
        "    random.shuffle(deck)\r\n",
        "    flush = [d[1] for d in deck[0:5]]\r\n",
        "    if len(set(flush))== 1:\r\n",
        "        flushes+=1\r\n",
        "prob = flushes/N\r\n",
        "prob"
      ],
      "execution_count": null,
      "outputs": []
    },
    {
      "cell_type": "markdown",
      "metadata": {
        "id": "fdZDTQjQGf-P"
      },
      "source": [
        "Probabilitatea de a extrage o chinta roiala:"
      ]
    },
    {
      "cell_type": "code",
      "metadata": {
        "id": "mUx5c8qSGgnh"
      },
      "source": [
        "N = 10000000\r\n",
        "royal_flushes = 0\r\n",
        "for hands in range(N):\r\n",
        "    # amestecam cartile\r\n",
        "    random.shuffle(deck)\r\n",
        "    flush = [d[1] for d in deck[0:5]]\r\n",
        "    suit = [d[0] for d in deck[0:5]]\r\n",
        "    if len(set(flush))== 1 and sorted(['A','J', 'Q', 'K', '10'])==sorted(suit):\r\n",
        "    royal_flushes+=1\r\n",
        "prob = royal_flushes/N\r\n",
        "prob"
      ],
      "execution_count": null,
      "outputs": []
    }
  ]
}